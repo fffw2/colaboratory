{
  "nbformat": 4,
  "nbformat_minor": 0,
  "metadata": {
    "colab": {
      "name": "foursquare_to_kml.ipynb",
      "provenance": [],
      "authorship_tag": "ABX9TyN9AeXxhI45qZrjyv9902X/",
      "include_colab_link": true
    },
    "kernelspec": {
      "name": "python3",
      "display_name": "Python 3"
    },
    "language_info": {
      "name": "python"
    }
  },
  "cells": [
    {
      "cell_type": "markdown",
      "metadata": {
        "id": "view-in-github",
        "colab_type": "text"
      },
      "source": [
        "<a href=\"https://colab.research.google.com/github/fffw2/colaboratory/blob/main/foursquare_to_kml.ipynb\" target=\"_parent\"><img src=\"https://colab.research.google.com/assets/colab-badge.svg\" alt=\"Open In Colab\"/></a>"
      ]
    },
    {
      "cell_type": "markdown",
      "metadata": {
        "id": "xsm9bJZ3AN0O"
      },
      "source": [
        "foursquare の API を叩いて KML を出力する偉大なるプログラムが Phil Gyford 氏によって公開されています。\n",
        "https://github.com/philgyford/foursquare-feeds\n",
        "\n",
        "このプログラムを環境構築なしで誰でも手軽に Google Colaboratory 上で実行できるようにすることを目的として、本ノートブックを公開します。詳しい解説は https://fffw2.hateblo.jp/entry/2021/11/10/184846 に記載しています。"
      ]
    },
    {
      "cell_type": "code",
      "metadata": {
        "id": "jNfm2aXiuz7P"
      },
      "source": [
        "!git clone https://github.com/philgyford/foursquare-feeds.git"
      ],
      "execution_count": null,
      "outputs": []
    },
    {
      "cell_type": "code",
      "metadata": {
        "id": "RgnoxYL_6cfb"
      },
      "source": [
        "cd foursquare-feeds"
      ],
      "execution_count": null,
      "outputs": []
    },
    {
      "cell_type": "code",
      "metadata": {
        "id": "EOQc1ENo7H-t"
      },
      "source": [
        "pip install -r requirements.txt"
      ],
      "execution_count": null,
      "outputs": []
    },
    {
      "cell_type": "markdown",
      "metadata": {
        "id": "m9bBb6X37Unw"
      },
      "source": [
        "'RESTART RUNTIME' と表示された場合は、それを押してから、2つ上のブロック（cd foursquare-feeds）から再度実行し直してください。"
      ]
    },
    {
      "cell_type": "markdown",
      "metadata": {
        "id": "0lfoKwu13j3m"
      },
      "source": [
        "https://foursquare.com/developers/apps で新規アプリを作成して、下記の作業をおこなってください。\n",
        "\n",
        "1.  アプリを作成すると Client ID と Client Secret が手に入ります。それらの値で下記の 'YOUR_CLIENT_ID' と 'YOUR_CLIENT_SECRET' の右辺を書き換えてください。\n",
        "2.  アプリの設定画面を開き Redirect URL に 'http://localhost:8000' を追加してください。\n",
        "\n",
        "以上が完了してから、下記の行を実行してください。"
      ]
    },
    {
      "cell_type": "code",
      "metadata": {
        "id": "fLlHqvMcxWei"
      },
      "source": [
        "YOUR_CLIENT_ID = 'XXXXXXXXXXXXXXXXXXXXXXXXXXXXXXXXXXXXXXXXXXXXX'\n",
        "YOUR_CLIENT_SECRET = 'XXXXXXXXXXXXXXXXXXXXXXXXXXXXXXXXXXXXXXXXXXXXX'\n",
        "f'https://foursquare.com/oauth2/authenticate?client_id={YOUR_CLIENT_ID}&response_type=code&redirect_uri=http%3A%2F%2Flocalhost%3A8000'"
      ],
      "execution_count": null,
      "outputs": []
    },
    {
      "cell_type": "markdown",
      "metadata": {
        "id": "o4_F8HRPwr7c"
      },
      "source": [
        "出力されたURLをブラウザに貼りつけてアクセスするとエラー画面になります。エラー画面のURLから「code=」より後の文字列を「#」の手前までコピーして、下記の 'CODE' の右辺を書き換えてください。"
      ]
    },
    {
      "cell_type": "code",
      "metadata": {
        "id": "6x6JKYRCycfY"
      },
      "source": [
        "CODE = 'XXXXXXXXXXXXXXXXXXXXXXXXXXXXXXXXXXXXXXXXXXXXX'\n",
        "f'https://foursquare.com/oauth2/access_token?client_id={YOUR_CLIENT_ID}&client_secret={YOUR_CLIENT_SECRET}&grant_type=authorization_code&redirect_uri=http%3A%2F%2Flocalhost%3A8000&code={CODE}'"
      ],
      "execution_count": null,
      "outputs": []
    },
    {
      "cell_type": "markdown",
      "metadata": {
        "id": "UDgwC3G35F4y"
      },
      "source": [
        "出力されたURLをブラウザに貼り付けてアクセスすると、アクセストークンが手に入ります。下記の 'ACCESS_TOKEN' という文字列をアクセストークンに置き換えてください。（ 'YourAccessTokenHere' は変更しないでください）"
      ]
    },
    {
      "cell_type": "code",
      "metadata": {
        "id": "wlAflFr3zAFE"
      },
      "source": [
        "!sed -e 's/YourAccessTokenHere/ACCESS_TOKEN/' config_example.ini > config.ini\n",
        "!cat config.ini"
      ],
      "execution_count": null,
      "outputs": []
    },
    {
      "cell_type": "code",
      "source": [
        "# simplekml のバグ修正\n",
        "# ref. https://github.com/tjlang/simplekml/pull/40/commits/27ff9e2910328c10987cddd3d2232416846eede4\n",
        "import sys\n",
        "major_version = sys.version_info.major\n",
        "minor_version = sys.version_info.minor\n",
        "base_py_path = f\"/usr/local/lib/python{major_version}.{minor_version}/dist-packages/simplekml/base.py\"\n",
        "!sed -i 's/cgi.escape/escape/g' $base_py_path\n",
        "!sed -i 's/import cgi/import cgi\\nfrom xml.sax.saxutils import escape, unescape/' $base_py_path"
      ],
      "metadata": {
        "id": "QTIQgveAO69w"
      },
      "execution_count": null,
      "outputs": []
    },
    {
      "cell_type": "code",
      "metadata": {
        "id": "GCBUPIrx0xfH"
      },
      "source": [
        "!./generate_feeds.py --kind kml -vv --all"
      ],
      "execution_count": null,
      "outputs": []
    },
    {
      "cell_type": "markdown",
      "metadata": {
        "id": "vzNCR35O_OW4"
      },
      "source": [
        "参考サイト\n",
        "* https://github.com/philgyford/foursquare-feeds\n",
        "* https://stackoverflow.com/questions/45432268/how-do-i-get-access-token-from-foursquare"
      ]
    }
  ]
}